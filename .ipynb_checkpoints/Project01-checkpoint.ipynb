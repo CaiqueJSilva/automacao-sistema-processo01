{
 "cells": [
  {
   "cell_type": "markdown",
   "id": "a7447279",
   "metadata": {},
   "source": [
    "# Automação de Sistemas e Processos com Python\n",
    "\n",
    "### Desafio:\n",
    "\n",
    "Para controle de custos, todos os dias, seu chefe pede um relatório com todas as compras de mercadorias da empresa.\n",
    "O seu trabalho, como analista, é enviar um e-mail para ele, assim que começar a trabalhar, com o total gasto, a quantidade de produtos compradas e o preço médio dos produtos.\n",
    "\n",
    "E-mail do seu chefe: para o nosso exercício, coloque um e-mail seu como sendo o e-mail do seu chefe<br>\n",
    "Link de acesso ao sistema da empresa: https://pages.hashtagtreinamentos.com/aula1-intensivao-sistema\n",
    "\n",
    "Para resolver isso, vamos usar o pyautogui, uma biblioteca de automação de comandos do mouse e do teclado"
   ]
  },
  {
   "cell_type": "code",
   "execution_count": 2,
   "id": "1d3fb1f4",
   "metadata": {},
   "outputs": [
    {
     "name": "stdout",
     "output_type": "stream",
     "text": [
      "Requirement already satisfied: pyautogui in c:\\users\\caiqu\\anaconda3\\lib\\site-packages (0.9.53)\n",
      "Requirement already satisfied: pyscreeze>=0.1.21 in c:\\users\\caiqu\\anaconda3\\lib\\site-packages (from pyautogui) (0.1.28)\n",
      "Requirement already satisfied: PyTweening>=1.0.1 in c:\\users\\caiqu\\anaconda3\\lib\\site-packages (from pyautogui) (1.0.4)\n",
      "Requirement already satisfied: pygetwindow>=0.0.5 in c:\\users\\caiqu\\anaconda3\\lib\\site-packages (from pyautogui) (0.0.9)\n",
      "Requirement already satisfied: mouseinfo in c:\\users\\caiqu\\anaconda3\\lib\\site-packages (from pyautogui) (0.1.3)\n",
      "Requirement already satisfied: pymsgbox in c:\\users\\caiqu\\anaconda3\\lib\\site-packages (from pyautogui) (1.0.9)\n",
      "Requirement already satisfied: pyrect in c:\\users\\caiqu\\anaconda3\\lib\\site-packages (from pygetwindow>=0.0.5->pyautogui) (0.2.0)\n",
      "Requirement already satisfied: pyperclip in c:\\users\\caiqu\\anaconda3\\lib\\site-packages (from mouseinfo->pyautogui) (1.8.2)\n"
     ]
    }
   ],
   "source": [
    "!pip install pyautogui"
   ]
  },
  {
   "cell_type": "code",
   "execution_count": null,
   "id": "ca33d7af",
   "metadata": {},
   "outputs": [],
   "source": [
    "import pyautogui\n",
    "import time\n",
    "import pyperclip\n",
    "\n",
    "pyautogui.PAUSE = 0.5\n",
    "# Passo a Passo\n",
    "\n",
    "# Passo 1,Entrar no sistema da empresa (no link)\n",
    "\n",
    "#  pyautogui.click --> clique com o mouse\n",
    "#  pyautogui.write --> escrever um texto\n",
    "#  pyautogui.press --> apertar uma tecla\n",
    "#  pyautogui.hotkey  --> apertar uma combinação de teclas (ex: ctrl + D)\n",
    "pyautogui.hotkey (\"ctrl\", \"t\")\n",
    "pyautogui.write (\"https://pages.hashtagtreinamentos.com/aula1-intensivao-sistema\")\n",
    "pyautogui.press(\"enter\")\n",
    "time.sleep(5)\n",
    "\n",
    "# Passo 2, fazer login\n",
    "# clicar no espaço de login\n",
    "pyautogui.click(x=764, y=343)\n",
    "pyautogui.write (\"caiquenew\")\n",
    "# depois escrever a senha\n",
    "pyautogui.click(x=727, y=419)\n",
    "pyautogui.write(\"blackn1\")\n",
    "# depois clicar em entrar\n",
    "pyautogui.click(x=713, y=487)\n",
    "\n",
    "# Passo 3, exportar base de dados\n",
    "time.sleep(3)\n",
    "pyautogui.click(x=349, y=261, button = \"right\")\n",
    "time.sleep(1)\n",
    "pyautogui.click(x=503, y=748)\n",
    "time.sleep(3)\n",
    "# Passo 4, calcular os indicadores\n",
    "\n",
    "import pandas\n",
    "\n",
    "tabela = pandas.read_csv(r\"C:\\Users\\caiqu\\Downloads\\Compras.csv\", sep=\";\")\n",
    "display(tabela)\n",
    "total_gasto = tabela[\"ValorFinal\"].sum()\n",
    "quantidade = tabela[\"Quantidade\"].sum()\n",
    "preco_medio = total_gasto / quantidade\n",
    "print (total_gasto)\n",
    "print (quantidade)\n",
    "print (preco_medio)\n",
    "\n",
    "# Passo 5, enviar e-mail para meu chefe\n",
    "\n",
    "pyautogui.hotkey (\"ctrl\",\"t\")\n",
    "pyautogui.write (\"https://br.yahoo.com/?p=us\")\n",
    "pyautogui.press(\"enter\")\n",
    "time.sleep(3)\n",
    "pyautogui.click(x=1405, y=113)\n",
    "time.sleep(3)\n",
    "pyautogui.click(x=121, y=217)\n",
    "pyautogui.write(\"caiquenewfreak@gmail.com\")\n",
    "pyautogui.click(x=316, y=265)\n",
    "time.sleep(1)\n",
    "pyperclip.copy (\"Relatório de Vendas\")\n",
    "pyautogui.hotkey (\"ctrl\", \"v\")\n",
    "pyautogui.press (\"tab\")\n",
    "time.sleep(1)\n",
    "texto = f'''\n",
    "Prezados\n",
    "Segue relatório de compras\n",
    "Total gasto: R${total_gasto:,.2f}\n",
    "Quantidade de produtos: {quantidade:,}\n",
    "Preço médio: R${preco_medio:,.2f} '''\n",
    "pyperclip.copy(texto)\n",
    "pyautogui.hotkey(\"ctrl\", \"v\")\n",
    "time.sleep(3)\n",
    "# Enviar\n",
    "\n",
    "pyautogui.hotkey(\"ctrl\", \"enter\")"
   ]
  },
  {
   "cell_type": "code",
   "execution_count": null,
   "id": "fdf95645",
   "metadata": {},
   "outputs": [],
   "source": [
    "#time.sleep (5)\n",
    "#print(pyautogui.position())"
   ]
  },
  {
   "cell_type": "code",
   "execution_count": null,
   "id": "3994f7b0",
   "metadata": {},
   "outputs": [],
   "source": [
    "# Passo 4, calcular os indicadores\n",
    "#import pandas\n",
    "\n",
    "#tabela = pandas.read_csv(r\"C:\\Users\\caiqu\\Downloads\\Compras.csv\", sep=\";\")\n",
    "#display(tabela)\n",
    "#total_gasto = tabela[\"ValorFinal\"].sum()\n",
    "#quantidade = tabela[\"Quantidade\"].sum()\n",
    "#preco_medio = total_gasto / quantidade\n",
    "#print (total_gasto)\n",
    "#print (quantidade)\n",
    "#print (preco_medio)\n"
   ]
  }
 ],
 "metadata": {
  "kernelspec": {
   "display_name": "Python 3 (ipykernel)",
   "language": "python",
   "name": "python3"
  },
  "language_info": {
   "codemirror_mode": {
    "name": "ipython",
    "version": 3
   },
   "file_extension": ".py",
   "mimetype": "text/x-python",
   "name": "python",
   "nbconvert_exporter": "python",
   "pygments_lexer": "ipython3",
   "version": "3.9.13"
  }
 },
 "nbformat": 4,
 "nbformat_minor": 5
}
